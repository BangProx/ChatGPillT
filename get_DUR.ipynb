{
 "cells": [
  {
   "cell_type": "code",
   "execution_count": null,
   "id": "d567c059-077b-477d-8a08-96de153b8ded",
   "metadata": {},
   "outputs": [],
   "source": [
    "import requests\n",
    "import re"
   ]
  },
  {
   "cell_type": "code",
   "execution_count": null,
   "id": "789d5940-874c-4319-8905-74312563d0bf",
   "metadata": {},
   "outputs": [],
   "source": [
    "#식약처 의약품안전사용서비스(DUR) 품목 정보\n",
    "combine_endpoint = \"http://apis.data.go.kr/1471000/DURPrdlstInfoService03/getUsjntTabooInfoList03\"\n",
    "pregnant_endpoint =\"http://apis.data.go.kr/1471000/DURPrdlstInfoService03/getPwnmTabooInfoList03\"\n",
    "kid_endpoint =\"http://apis.data.go.kr/1471000/DURPrdlstInfoService03/getSpcifyAgrdeTabooInfoList03\"\n",
    "#품목정보 조회\n",
    "dur_endpoint = \"http://apis.data.go.kr/1471000/DURPrdlstInfoService03/getDurPrdlstInfoList03\"\n",
    "decoding_key = DECODING_KEY\n",
    "#식약처 의약품안전사용서비스(DUR) 성분정보 \n"
   ]
  },
  {
   "cell_type": "markdown",
   "id": "e6bc46ae-c010-423e-ade9-01adc8e3e268",
   "metadata": {},
   "source": [
    "### 병용금기"
   ]
  },
  {
   "cell_type": "code",
   "execution_count": null,
   "id": "3532362d-eee9-4cfa-9e19-9ca07d739ba3",
   "metadata": {},
   "outputs": [],
   "source": [
    "'''\n",
    "MIXTURE_ITEM_NAME : 병용금기 품목명\n",
    "'''"
   ]
  },
  {
   "cell_type": "code",
   "execution_count": null,
   "id": "7594db11-7e41-41b4-a24d-049f14014d5d",
   "metadata": {},
   "outputs": [],
   "source": [
    "item_input = \"보노렉스\"\n",
    "item_output = \"메트폰정\"\n",
    "able = True"
   ]
  },
  {
   "cell_type": "code",
   "execution_count": null,
   "id": "0b55ef78-bf3d-48a0-b1c3-460c03aa3a95",
   "metadata": {},
   "outputs": [],
   "source": [
    "#응답받을 parameter\n",
    "params = {\n",
    "    'serviceKey': decoding_key,  \n",
    "    'type' : \"json\",\n",
    "    'itemName': item_input\n",
    "}\n",
    "\n",
    "#GET request\n",
    "response = requests.get(combine_endpoint, params=params)"
   ]
  },
  {
   "cell_type": "code",
   "execution_count": null,
   "id": "1ad33165-60fe-4632-832e-d9d2c590b961",
   "metadata": {},
   "outputs": [],
   "source": [
    "response = response.json()\n",
    "response"
   ]
  },
  {
   "cell_type": "code",
   "execution_count": null,
   "id": "082cd1fe-6658-4b99-86d0-180dd7a95606",
   "metadata": {},
   "outputs": [],
   "source": [
    "len_response = len(response['body']['items'])\n",
    "print(len_response)"
   ]
  },
  {
   "cell_type": "code",
   "execution_count": null,
   "id": "4a35ca23-2ba5-4535-a095-53ab2228f071",
   "metadata": {},
   "outputs": [],
   "source": [
    "def reform_name(item):\n",
    "    reform_name = re.sub(r\"\\(.*?\\)\", \"\", item)\n",
    "    return reform_name"
   ]
  },
  {
   "cell_type": "code",
   "execution_count": null,
   "id": "db37e067-76f2-4a24-98be-ae0ea404bc9c",
   "metadata": {},
   "outputs": [],
   "source": [
    "if response.status_code == 200:\n",
    "    pair = {}\n",
    "    item_list = []\n",
    "    symptom_list = []\n",
    "    response = response.json()\n",
    "    len_response = len(response['body']['items'])\n",
    "    for i in range(len_response):\n",
    "        item = response['body']['items'][i]['MIXTURE_ITEM_NAME']\n",
    "        item = reform_name(item)\n",
    "        item_list.append(item)\n",
    "        \n",
    "        symptom = response['body']['items'][i]['PROHBT_CONTENT']\n",
    "        symptom_list.append(symptom)\n",
    "        \n",
    "        pair[item] = symptom\n",
    "else:\n",
    "    print(\"응답이 취소되었습니다. 오류코드:\", response.status_code)"
   ]
  },
  {
   "cell_type": "markdown",
   "id": "bff192bc",
   "metadata": {},
   "source": [
    "### TEST BEFORE IMPLEMENT"
   ]
  },
  {
   "cell_type": "code",
   "execution_count": null,
   "id": "92f97563-6f30-4082-bdda-58f0fd7092ea",
   "metadata": {},
   "outputs": [],
   "source": [
    "temp = []\n",
    "for item in item_list:\n",
    "    reform_name = re.sub(r\"\\(.*?\\)\", \"\", item)\n",
    "    #reform_name = reform_name.split()[0]\n",
    "    temp.append(reform_name)\n",
    "item_list = temp\n",
    "pair"
   ]
  },
  {
   "cell_type": "code",
   "execution_count": null,
   "id": "48c500b9-8022-4e3b-aec1-ed757c5e009c",
   "metadata": {},
   "outputs": [],
   "source": [
    "def get_better_answer():\n",
    "    print(\"불가불가\\n\",pair[item_output])"
   ]
  },
  {
   "cell_type": "code",
   "execution_count": null,
   "id": "1c7a28dc-de2d-41c5-bca0-bac469454565",
   "metadata": {},
   "outputs": [],
   "source": [
    "if item_output in item_list:\n",
    "    get_better_answer()\n",
    "else:\n",
    "    print(\"쌉가능\")"
   ]
  },
  {
   "cell_type": "markdown",
   "id": "9657cc6e-f011-4390-86a8-9585f7e43abf",
   "metadata": {},
   "source": [
    "### 아이"
   ]
  },
  {
   "cell_type": "code",
   "execution_count": null,
   "id": "2ab6dac0-1e48-48c0-b572-4bbc5d7efc6e",
   "metadata": {
    "scrolled": true
   },
   "outputs": [],
   "source": [
    "item_input = \"멜브렉스정\"\n",
    "\n",
    "#응답받을 parameter\n",
    "params = {\n",
    "    'serviceKey': decoding_key,  \n",
    "    'type' : \"json\",\n",
    "    'itemName': item_input\n",
    "}\n",
    "\n",
    "#GET request\n",
    "response = requests.get(kid_endpoint, params=params)"
   ]
  },
  {
   "cell_type": "code",
   "execution_count": null,
   "id": "08c811d3-8cdc-44c2-8dc8-856e0a4d0ffd",
   "metadata": {},
   "outputs": [],
   "source": [
    "if response.status_code == 200:\n",
    "    response = response.json()\n",
    "    print(response)\n",
    "    if response['body']['totalCount'] != 0:\n",
    "        print(\"대한민국 DUR 정보에 따르면 \"+ item_input + \"은(는) 아이에게 사용 금기입니다. 의료인의 판단에 의해 그 사용 여부를 결정해야 합니다.\")\n",
    "    else:\n",
    "        print(\"대한민국 DUR 정보에 따르면 \" + item_input + \"은(는) 연령과 관련한 금기에 해당하지 않습니다.\")\n",
    "else:\n",
    "    print(\"응답이 취소되었습니다. 오류코드:\", response.status_code)"
   ]
  },
  {
   "cell_type": "markdown",
   "id": "a0f4e2ac-d869-4717-a652-21f2f5f9c5ad",
   "metadata": {},
   "source": [
    "### 임산부"
   ]
  },
  {
   "cell_type": "code",
   "execution_count": null,
   "id": "723c5af8-b454-4ffa-a51a-bd3becb1ebd8",
   "metadata": {},
   "outputs": [],
   "source": [
    "item_input = \"브롬펜점안액\"\n",
    "\n",
    "#응답받을 parameter\n",
    "params = {\n",
    "    'serviceKey': decoding_key,  \n",
    "    'type' : \"json\",\n",
    "    'itemName': item_input\n",
    "}\n",
    "\n",
    "#GET request\n",
    "response = requests.get(pregnant_endpoint, params=params)"
   ]
  },
  {
   "cell_type": "code",
   "execution_count": null,
   "id": "4af8ab19-b058-43e7-9cd7-5d20455520cd",
   "metadata": {},
   "outputs": [],
   "source": [
    "if response.status_code == 200:\n",
    "    response = response.json()\n",
    "    print(response)\n",
    "    if response['body']['totalCount'] != 0:\n",
    "        print(\"대한민국 DUR 정보에 따르면 \"+ item_input + \"은(는) 임산부에게 사용 금기입니다. 의료인의 판단에 의해 그 사용 여부를 결정해야 합니다.\")\n",
    "    else:\n",
    "        print(\"대한민국 DUR 정보에 따르면 \"+ item_input + \"은(는) 임신과 관련한 금기에 해당하지 않습니다.\")\n",
    "else:\n",
    "    print(\"응답이 취소되었습니다. 오류코드:\", response.status_code)"
   ]
  },
  {
   "cell_type": "code",
   "execution_count": null,
   "id": "8d72a950-643d-432a-9b99-50727c6f9ab9",
   "metadata": {},
   "outputs": [],
   "source": [
    "ager = \"12345\"\n",
    "print(ager[1:len(ager)-1])"
   ]
  },
  {
   "cell_type": "code",
   "execution_count": null,
   "id": "62312891-8b6c-4ca7-94dc-f22b076e9fd3",
   "metadata": {},
   "outputs": [],
   "source": [
    "response = requests.get(pregnant_endpoint, params=params)\n",
    "pair = {}\n",
    "item_list = []\n",
    "symptom_list = []\n",
    "response = response.json()\n",
    "if response['body']['totalCount'] == 0:\n",
    "    print( \"임부 가능\")\n",
    "elif response['body']['totalCount'] == 1:\n",
    "    symptom = response['body']['items'][0]['PROHBT_CONTENT']\n",
    "    print(\"임부 금기. 사유 : \" + symptom)\n",
    "else:\n",
    "    symptom = response['body']['items'][0]['PROHBT_CONTENT']\n",
    "    print(\"임부 금기. 사유 : \" + symptom)"
   ]
  }
 ],
 "metadata": {
  "kernelspec": {
   "display_name": "Python 3 (ipykernel)",
   "language": "python",
   "name": "python3"
  },
  "language_info": {
   "codemirror_mode": {
    "name": "ipython",
    "version": 3
   },
   "file_extension": ".py",
   "mimetype": "text/x-python",
   "name": "python",
   "nbconvert_exporter": "python",
   "pygments_lexer": "ipython3",
   "version": "3.10.13"
  }
 },
 "nbformat": 4,
 "nbformat_minor": 5
}
