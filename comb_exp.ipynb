{
 "cells": [
  {
   "cell_type": "code",
   "execution_count": null,
   "id": "46aa5f98-8329-47cd-98e8-c2efbc26072d",
   "metadata": {},
   "outputs": [],
   "source": [
    "import pandas as pd\n",
    "import numpy as np\n",
    "import math"
   ]
  },
  {
   "cell_type": "code",
   "execution_count": null,
   "id": "d6c73976-d72f-417c-80fa-5b464b0c2243",
   "metadata": {},
   "outputs": [],
   "source": [
    "data = pd.read_excel(\"EXCEL_PATH\")\n",
    "data.head(5)"
   ]
  },
  {
   "cell_type": "code",
   "execution_count": null,
   "id": "873bf703-564e-4bc0-91f8-baca302f1798",
   "metadata": {},
   "outputs": [],
   "source": [
    "#number of correct values\n",
    "c = 0\n",
    "gt_comb = list(data[\"gt_comb\"].dropna())\n",
    "gpt = list(data[\"gpt\"].dropna())"
   ]
  },
  {
   "cell_type": "code",
   "execution_count": null,
   "id": "e2efd13b-e05a-4313-bef7-03e0f10c0bda",
   "metadata": {},
   "outputs": [],
   "source": [
    "for i in range(len(gpt)):\n",
    "    if gt_comb[i] == gpt[i]:\n",
    "        c += 1\n",
    "accuracy = c/len(gpt)\n",
    "print(f\"병용 금기 accuracy : {accuracy}\")"
   ]
  },
  {
   "cell_type": "markdown",
   "id": "4a5bc1d5-bc0f-4016-819f-cf5051bcff9b",
   "metadata": {},
   "source": [
    "### sensitivity\n",
    "- tp/tp+fn\n",
    "- 실제로 금기인 것들에 대해 금기라고 하는 비율\n",
    "- sensitivity(민감도)가 낮다는 것은 금기인데 가능하다고 하는 경우가 많다는 것. 따라서, 치명적이다.\n",
    "### specificity\n",
    "- tn/fp+tn\n",
    "- 실제로 복용 가능한 것들에 대해 가능하다고 하는 비율\n",
    "- specificity(특이도)가 낮다는 것은 복용 가능한데 금기라고 하는 경우가 많다는 것. 좋은건 아닌데 치명적이지는 않다."
   ]
  },
  {
   "cell_type": "code",
   "execution_count": null,
   "id": "ad6a2eb7-7efc-453b-ac2d-4fa86664f01e",
   "metadata": {},
   "outputs": [],
   "source": [
    "#true positive : 금기인데 금기라고 한 경우      문제라고 했는데 진짜 문제인 경우\n",
    "tp = 0\n",
    "#true negative : 가능인데 가능이라고 한 경우    문제 없다고 했는데 진짜 문제 없음\n",
    "tn = 0\n",
    "#false positive : 가능인데 금기라고 한 경우     문제라고 했는데 문제 아닌 경우\n",
    "fp = 0\n",
    "#false negative : 금기인데 가능이라고 한 경우  문제없다고 했는데 문제 있는 경우\n",
    "fn = 0"
   ]
  },
  {
   "cell_type": "code",
   "execution_count": null,
   "id": "c4235680-d958-4ba8-a38b-c278623c1e97",
   "metadata": {},
   "outputs": [],
   "source": [
    "for i in range(len(gt_comb)): \n",
    "    if gt_comb[i] == \"o\" and gpt[i] == \"o\":\n",
    "        tp += 1\n",
    "    elif gt_comb[i] == \"o\" and gpt[i] ==\"x\":\n",
    "        fn +=1\n",
    "    elif gt_comb[i] == \"x\" and gpt[i] ==\"o\":\n",
    "        fp +=1\n",
    "    elif gt_comb[i] == \"x\" and gpt[i] ==\"x\":\n",
    "        tn +=1"
   ]
  },
  {
   "cell_type": "code",
   "execution_count": null,
   "id": "13d50bdc-a385-42c7-88bc-6c708676aec9",
   "metadata": {},
   "outputs": [],
   "source": [
    "print(\"db 병용 sensitivity : \",tp/(tp+fn))\n",
    "print(\"db 병용 specificity : \",tn/(fp+tn))"
   ]
  }
 ],
 "metadata": {
  "kernelspec": {
   "display_name": "p3.10/t2.1.2",
   "language": "python",
   "name": "sba"
  },
  "language_info": {
   "codemirror_mode": {
    "name": "ipython",
    "version": 3
   },
   "file_extension": ".py",
   "mimetype": "text/x-python",
   "name": "python",
   "nbconvert_exporter": "python",
   "pygments_lexer": "ipython3",
   "version": "3.10.13"
  }
 },
 "nbformat": 4,
 "nbformat_minor": 5
}
